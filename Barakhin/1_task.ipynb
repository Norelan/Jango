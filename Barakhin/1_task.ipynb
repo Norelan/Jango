{
 "cells": [
  {
   "cell_type": "code",
   "execution_count": 1,
   "metadata": {},
   "outputs": [],
   "source": [
    "import math"
   ]
  },
  {
   "cell_type": "code",
   "execution_count": 2,
   "metadata": {},
   "outputs": [],
   "source": [
    "def print_mass(A, k):\n",
    "    n = len(A)\n",
    "    for i in range(n):\n",
    "        print(A[i], end=\" \")\n",
    "\n",
    "    if k == 1:\n",
    "        for i in range(n):\n",
    "            print(A[-i - 1], end=\" \")\n",
    "    else:\n",
    "        for i in range(n-1):\n",
    "            print(A[-i - 2], end=\" \")\n",
    "            \n",
    "    print()"
   ]
  },
  {
   "cell_type": "code",
   "execution_count": 3,
   "metadata": {},
   "outputs": [],
   "source": [
    "n = float(input(\"Введите натуральное число\"))\n",
    "while n % 1 != 0 or n < 0:\n",
    "    print(\"Некоректное число\")\n",
    "    n = float(input(\"Введите натуральное число\"))\n",
    "n = int(n)"
   ]
  },
  {
   "cell_type": "code",
   "execution_count": 4,
   "metadata": {},
   "outputs": [
    {
     "name": "stdout",
     "output_type": "stream",
     "text": [
      "1\n",
      "1 1 \n",
      "1 2 1 \n",
      "1 3 3 1 \n",
      "1 4 6 4 1 \n",
      "1 5 10 10 5 1 \n",
      "1 6 15 20 15 6 1 \n",
      "1 7 21 35 35 21 7 1 \n",
      "1 8 28 56 70 56 28 8 1 \n",
      "1 9 36 84 126 126 84 36 9 1 \n"
     ]
    }
   ],
   "source": [
    "A1 = [1]\n",
    "print(1)\n",
    "\n",
    "for i in range(1, n):\n",
    "\n",
    "    mass_size = math.ceil((i+1)/2)\n",
    "    A = [0] * mass_size # если нечетная строка, то нам нужен центрельный элемент, поэтому округляем вверх\n",
    "    A[0] = 1\n",
    "\n",
    "    if i % 2 == 1:\n",
    "        for j in range(1, mass_size):\n",
    "            A[j] = A1[j] + A1[j-1]\n",
    "        print_mass(A, 1)\n",
    "    else:\n",
    "        for j in range(1, mass_size - 1):\n",
    "            A[j] = A1[j] + A1[j-1]\n",
    "        A[mass_size-1] = A1[mass_size-2] * 2\n",
    "        print_mass(A, 0)\n",
    "\n",
    "    A1 = A[:]"
   ]
  }
 ],
 "metadata": {
  "kernelspec": {
   "display_name": "Python 3",
   "language": "python",
   "name": "python3"
  },
  "language_info": {
   "codemirror_mode": {
    "name": "ipython",
    "version": 3
   },
   "file_extension": ".py",
   "mimetype": "text/x-python",
   "name": "python",
   "nbconvert_exporter": "python",
   "pygments_lexer": "ipython3",
   "version": "3.12.2"
  }
 },
 "nbformat": 4,
 "nbformat_minor": 2
}
