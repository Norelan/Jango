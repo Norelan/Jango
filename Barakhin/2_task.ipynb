{
 "cells": [
  {
   "cell_type": "code",
   "execution_count": 7,
   "metadata": {},
   "outputs": [],
   "source": [
    "f_in = open(\"test.txt\", \"r\", encoding = \"utf-8\")\n",
    "full_text = f_in.read()\n",
    "f_in.close()"
   ]
  },
  {
   "cell_type": "code",
   "execution_count": 8,
   "metadata": {},
   "outputs": [
    {
     "name": "stdout",
     "output_type": "stream",
     "text": [
      "Неверная последовательность\n"
     ]
    }
   ],
   "source": [
    "answer = 0\n",
    "ind = True\n",
    "for i in full_text:\n",
    "    if i == '(':\n",
    "        answer += 1\n",
    "    else:\n",
    "        answer -= 1\n",
    "    if answer < 0:\n",
    "        break\n",
    "if answer != 0:\n",
    "    ind = False\n",
    "\n",
    "if ind :\n",
    "    print(\"Верная последовательность\")\n",
    "else:\n",
    "    print(\"Неверная последовательность\")\n"
   ]
  }
 ],
 "metadata": {
  "kernelspec": {
   "display_name": "Python 3",
   "language": "python",
   "name": "python3"
  },
  "language_info": {
   "codemirror_mode": {
    "name": "ipython",
    "version": 3
   },
   "file_extension": ".py",
   "mimetype": "text/x-python",
   "name": "python",
   "nbconvert_exporter": "python",
   "pygments_lexer": "ipython3",
   "version": "3.12.2"
  }
 },
 "nbformat": 4,
 "nbformat_minor": 2
}
